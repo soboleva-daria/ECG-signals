{
 "cells": [
  {
   "cell_type": "code",
   "execution_count": 2,
   "metadata": {
    "collapsed": false
   },
   "outputs": [],
   "source": [
    "import os\n",
    "import sys\n",
    "import re\n",
    "import shutil\n",
    "from sklearn.metrics import roc_auc_score, log_loss\n",
    "from sklearn.cross_validation import StratifiedKFold\n",
    "from collections import Counter\n",
    "from itertools import product\n",
    "import operator\n",
    "import string\n",
    "\n",
    "import numpy as np\n",
    "import pandas as pd"
   ]
  },
  {
   "cell_type": "code",
   "execution_count": 3,
   "metadata": {
    "collapsed": false
   },
   "outputs": [],
   "source": [
    "sys.path.insert(1,'/root/artm/python')"
   ]
  },
  {
   "cell_type": "code",
   "execution_count": 4,
   "metadata": {
    "collapsed": false
   },
   "outputs": [],
   "source": [
    "import artm"
   ]
  },
  {
   "cell_type": "code",
   "execution_count": 5,
   "metadata": {
    "collapsed": true
   },
   "outputs": [],
   "source": [
    "os.environ[\"ARTM_SHARED_LIBRARY\"] = \"/root/artm/build/lib/libartm.so\""
   ]
  },
  {
   "cell_type": "code",
   "execution_count": 8,
   "metadata": {
    "collapsed": false
   },
   "outputs": [
    {
     "name": "stderr",
     "output_type": "stream",
     "text": [
      "Cloning into 'python-telegram-bot'...\n"
     ]
    }
   ],
   "source": [
    "%%bash\n",
    "git clone https://github.com/python-telegram-bot/python-telegram-bot\n",
    "cd python-telegram-bot\n",
    "python setup.py install"
   ]
  },
  {
   "cell_type": "code",
   "execution_count": null,
   "metadata": {
    "collapsed": true
   },
   "outputs": [],
   "source": [
    "%%bash\n",
    "git clone https://github.com/soboleva-daria/pyloggers.git\n",
    "cd pyloggers/ && git pull"
   ]
  },
  {
   "cell_type": "code",
   "execution_count": 5,
   "metadata": {
    "collapsed": false
   },
   "outputs": [],
   "source": [
    "sys.path.insert(1,'pyloggers')\n",
    "from telegram_logger import TelegramLogger\n",
    "tl = TelegramLogger(name='artm')"
   ]
  },
  {
   "cell_type": "code",
   "execution_count": 6,
   "metadata": {
    "collapsed": true
   },
   "outputs": [],
   "source": [
    "data_dir = 'data_ekg'\n",
    "file_src = 'vw.txt'\n",
    "n_obj = 372\n",
    "\n",
    "n_shuffle = 10\n",
    "n_folds = 10"
   ]
  },
  {
   "cell_type": "code",
   "execution_count": 7,
   "metadata": {
    "collapsed": false
   },
   "outputs": [],
   "source": [
    "# Инициализация фи\n",
    "\n",
    "def freq_count(line, docs_freq, docs_freq3):\n",
    "    n = 6\n",
    "    k = 3\n",
    "    l = line.split(' ',1)\n",
    "    d = l[0]\n",
    "\n",
    "    l = l[1].split('|', 1)\n",
    "\n",
    "    cls = \"%s \"%(l[1].strip())\n",
    "    cls = re.findall(r'\\:(.*?)\\ ', cls)\n",
    "\n",
    "    if int(cls[1]): # с - класс больных ХХ\n",
    "        return docs_freq, docs_freq3\n",
    "\n",
    "    docs_freq3[d] = []\n",
    "    docs_freq[d] = dict.fromkeys(string.ascii_uppercase[:n], 0)\n",
    "    \n",
    "    for w in l[0].split():\n",
    "        docs_freq3[d].append(int(w[k + 1:]))\n",
    "\n",
    "        for key, value in Counter(w[:k]).items():\n",
    "            docs_freq[d][key] += value * int(w[k + 1:])\n",
    "            \n",
    "    return docs_freq, docs_freq3"
   ]
  },
  {
   "cell_type": "code",
   "execution_count": 7,
   "metadata": {
    "collapsed": false
   },
   "outputs": [],
   "source": [
    "def separate_fold_for_cv(n_shuffle, n_folds):\n",
    "\n",
    "    # Инициализация фи\n",
    "    #docs_freq = {}\n",
    "    #docs_freq3 = {}\n",
    "\n",
    "    with open('vw_true_labels{}.txt'.format(n_shuffle), 'r') as fin:\n",
    "        y_true = np.array([int(i) for i in fin.readlines()], dtype=str)\n",
    "    skf = StratifiedKFold(y_true, n_folds)\n",
    "\n",
    "    with open('vw{}.txt'.format(n_shuffle), 'r') as fin:\n",
    "        data = np.array(fin.readlines())\n",
    "\n",
    "    for n_fold, (i, j) in enumerate(skf):\n",
    "\n",
    "        d_dir = '{}/data{}'.format(data_dir, n_fold)\n",
    "        os.mkdir(d_dir)\n",
    "        with open(os.path.join(d_dir, 'test.txt'), 'w') as test:\n",
    "            with open(os.path.join(d_dir, 'true_labels.txt'), 'w') as label:\n",
    "                with open(os.path.join(d_dir, 'train.txt'), 'w') as train:\n",
    "\n",
    "                    train.write(''.join(data[i]))\n",
    "                    label.write('\\n'.join(y_true[j]))\n",
    "\n",
    "                    for line in data[j]:\n",
    "                        test.write(\"%s\\n\" % (line.partition('|')[0]))\n",
    "\n",
    "    # return docs_freq, docs_freq3"
   ]
  },
  {
   "cell_type": "code",
   "execution_count": 8,
   "metadata": {
    "collapsed": true
   },
   "outputs": [],
   "source": [
    "def create_batches(n_fold):\n",
    "    batch_vectorize = None\n",
    "    d_dir = '{}/data{}'.format(data_dir, n_fold)\n",
    "    \n",
    "    new_folder = os.path.join(d_dir, 'data_batches')\n",
    "    target_folder_train = \"%s%s\" % (new_folder, '_train')\n",
    "    target_folder_test = \"%s%s\" % (new_folder, '_test')\n",
    "\n",
    "    batch_vectorizer = artm.BatchVectorizer(\n",
    "        batch_size=100000,\n",
    "        data_path=os.path.join(\n",
    "            d_dir,\n",
    "            'train.txt'),\n",
    "        data_format='vowpal_wabbit',\n",
    "        target_folder=target_folder_train)\n",
    "\n",
    "    batch_vectorizer = artm.BatchVectorizer(\n",
    "        batch_size=100000,\n",
    "        data_path=os.path.join(\n",
    "            d_dir,\n",
    "            'test.txt'),\n",
    "        data_format='vowpal_wabbit',\n",
    "        target_folder=target_folder_test)\n",
    "\n",
    "    os.rename(\n",
    "        os.path.join(\n",
    "            target_folder_train,\n",
    "            'aaaaaa.batch'),\n",
    "        os.path.join(\n",
    "            target_folder_train,\n",
    "            'train.batch'))\n",
    "\n",
    "    os.rename(\n",
    "        os.path.join(\n",
    "            target_folder_test,\n",
    "            'aaaaaa.batch'),\n",
    "        os.path.join(\n",
    "            target_folder_test,\n",
    "            'test.batch'))\n",
    "\n",
    "    folder_for_dict = os.path.join(d_dir, 'for_dict')\n",
    "    os.mkdir(folder_for_dict)\n",
    "\n",
    "    shutil.copy(\n",
    "        os.path.join(\n",
    "            target_folder_train,\n",
    "            'train.batch'),\n",
    "        folder_for_dict)\n",
    "\n",
    "    shutil.copy(\n",
    "        os.path.join(\n",
    "            target_folder_test,\n",
    "            'test.batch'),\n",
    "        folder_for_dict)\n",
    "    \n",
    "    shutil.copy(os.path.join(d_dir, 'true_labels.txt'), target_folder_test)"
   ]
  },
  {
   "cell_type": "code",
   "execution_count": 10,
   "metadata": {
    "collapsed": true
   },
   "outputs": [],
   "source": [
    "def trigrams():\n",
    "    tokens = []\n",
    "    for token in product(string.ascii_uppercase, repeat=3):\n",
    "\n",
    "        if token[0] > 'F':\n",
    "            break\n",
    "\n",
    "        if token[1] > 'F' or token[2] > 'F':\n",
    "            continue\n",
    "\n",
    "        tokens.append(''.join(token))\n",
    "    return tokens\n",
    "\n",
    "def build_phi(n_topics, docs_freq, docs_freq3):\n",
    "\n",
    "    # Подсчет КГ\n",
    "    for key, value in docs_freq.items():\n",
    "        n = 0\n",
    "        for k in {'A', 'B', 'E', 'F'}:\n",
    "            n += value[k]\n",
    "        docs_freq[key] = float(n) / (value['C'] + value['D']) or 1\n",
    "\n",
    "    # Сортировка по КГ\n",
    "    list_docs = []\n",
    "    for key in sorted(docs_freq, key=docs_freq.__getitem__):\n",
    "        list_docs.append(docs_freq3[key])\n",
    "\n",
    "    # Разбиваем на корзинки, число корзинок == n_topics\n",
    "    buckets = np.array_split(np.array(list_docs), n_topics)\n",
    "\n",
    "    # Усредняем по корзинкам\n",
    "    p_wt = []\n",
    "    for bucket in buckets:\n",
    "        p_wt.append(np.mean(bucket, axis=0))\n",
    "    p_wt = np.array(p_wt, dtype=float).T\n",
    "    \n",
    "    # p(label1|t) = 1\n",
    "    p_wt = np.vstack((p_wt, np.ones(n_topics)))\n",
    "\n",
    "    # p(label0|t) = 0\n",
    "    p_wt = np.vstack((p_wt, np.zeros(n_topics)))\n",
    "\n",
    "    # Рандомизируем\n",
    "    rand = np.random.poisson(lam=1.0, size=(bucket.shape[1], n_topics))\n",
    "    rand = np.vstack((rand, np.random.poisson(lam=10, size=(2, n_topics))))\n",
    "    p_wt += rand\n",
    "    \n",
    "    # Нормируем\n",
    "    p_wt = np.divide(p_wt, p_wt.sum(axis=0))\n",
    "    \n",
    "    w = trigrams()\n",
    "    w.extend(['label1', 'label0'])\n",
    "    topics = ['topic_{}'.format(i) for i in range(n_topics)]\n",
    "\n",
    "    return pd.DataFrame(p_wt, index=w, columns=topics)"
   ]
  },
  {
   "cell_type": "code",
   "execution_count": 130,
   "metadata": {
    "collapsed": false
   },
   "outputs": [],
   "source": [
    "n_topics = 7\n",
    "n_tokens = 218\n",
    "\n",
    "n_collection_passes = 60\n",
    "n_document_passes = 1 #np.ones(n_collection_passes, dtype=int)\n",
    "\n",
    "#labels_class_weight = [1]*num_collection_passes\n",
    "tau   = np.repeat([1, 10, 100, 1000, 1e4, 1e5], 10)\n",
    "#tau = np.append(tau, np.repeat([1e5], 5))\n",
    "min_tau = int(min(tau))\n",
    "max_tau = int(max(tau))\n",
    "w_gram3 = np.ones(n_collection_passes)\n",
    "\n",
    "c ='labels'\n",
    "gram3 = '@default_class'\n",
    "\n",
    "scores_folds_iter  = {}\n",
    "perplexity_c = {}\n",
    "perplexity_gram3 = {}\n",
    "sparsity_phi_c = {}\n",
    "sparsity_phi_gram3 = {}\n",
    "\n",
    "for i in range(n_collection_passes):\n",
    "    scores_folds_iter[i] = []\n",
    "    perplexity_c[i] = []\n",
    "    perplexity_gram3[i] = []\n",
    "    sparsity_phi_c[i] = []\n",
    "    sparsity_phi_gram3[i] = []\n",
    "    \n",
    "src = 'topics{}_tau{}_{}'.format(n_topics, min_tau, max_tau)\n",
    "theta_dir = 'theta_' + src\n",
    "ptc_dir =   'ptc_' + src\n",
    "os.mkdir(theta_dir)\n",
    "os.mkdir(ptc_dir)"
   ]
  },
  {
   "cell_type": "code",
   "execution_count": 6,
   "metadata": {
    "collapsed": true
   },
   "outputs": [],
   "source": [
    "# n_shuffle * n_folds - cv\n",
    "\n",
    "def reject_shuffle(strings, n):\n",
    "    orders = set()\n",
    "    e_strings = list(enumerate(strings))\n",
    "    for gen_idx in range(n):    \n",
    "        while tuple([idx for idx, _ in e_strings]) in orders:\n",
    "              np.random.shuffle(e_strings)\n",
    "        orders.update((tuple([idx for idx, _ in e_strings]),))\n",
    "        yield [val for _, val in e_strings]\n",
    "\n",
    "        \n",
    "y_true = []\n",
    "with open(file_src, 'r') as fin:\n",
    "    lines = fin.readlines()\n",
    "    \n",
    "    for gen_idx, shuffled in enumerate(reject_shuffle(lines, n_shuffle)):\n",
    "        for line in shuffled:\n",
    "            line_tmp = \"%s \" % (line.split('|', 1)[1][:-1])\n",
    "            str_tmp = re.findall(r'\\:(.*?)\\ ', line_tmp)\n",
    "            y_true.append(str_tmp[1])\n",
    "            \n",
    "        with open('vw_true_labels{}.txt'.format(gen_idx), 'w') as fout:\n",
    "            fout.write('\\n'.join(y_true))\n",
    "            \n",
    "        with open('vw{}.txt'.format(gen_idx), 'w') as fout:\n",
    "            fout.write(''.join(shuffled))"
   ]
  },
  {
   "cell_type": "code",
   "execution_count": 10,
   "metadata": {
    "collapsed": false
   },
   "outputs": [],
   "source": [
    "n_shuffle = 0\n",
    "n_folds = 10\n",
    "\n",
    "separate_fold_for_cv(n_shuffle, n_folds)"
   ]
  },
  {
   "cell_type": "code",
   "execution_count": 97,
   "metadata": {
    "collapsed": true
   },
   "outputs": [],
   "source": [
    "create_batches(0)"
   ]
  },
  {
   "cell_type": "code",
   "execution_count": 12,
   "metadata": {
    "collapsed": true
   },
   "outputs": [],
   "source": [
    "n_topics = 2\n",
    "n_document_passes = 1\n",
    "n_collection_passes = 60"
   ]
  },
  {
   "cell_type": "code",
   "execution_count": 13,
   "metadata": {
    "collapsed": false
   },
   "outputs": [],
   "source": [
    "# true_p_cd = np.asarray(n_fold)\n",
    "n_fold = 0\n",
    "\n",
    "d_dir = '{}/data{}'.format(data_dir, n_fold)\n",
    "\n",
    "batch_vectorizer_fit = artm.BatchVectorizer(\n",
    "    data_path=os.path.join(\n",
    "        d_dir,\n",
    "        'data_batches_train'),\n",
    "    data_format=\"batches\")\n",
    "batch_vectorizer_test = artm.BatchVectorizer(\n",
    "    data_path=os.path.join(\n",
    "        d_dir,\n",
    "        'data_batches_test'),\n",
    "    data_format=\"batches\")\n",
    "\n",
    "dictionary = artm.Dictionary()\n",
    "dictionary.gather(data_path=os.path.join(d_dir, 'for_dict'))\n",
    "\n",
    "model = artm.ARTM(\n",
    "    num_topics=n_topics,\n",
    "    dictionary=dictionary,\n",
    "    cache_theta=True,\n",
    "    reuse_theta=True)\n",
    "\n",
    "model.scores.add(artm.PerplexityScore(name='perplexity_score_c',\n",
    "                                      class_ids = ['labels'], \n",
    "                                      dictionary=dictionary))\n",
    "\n",
    "model.scores.add(artm.PerplexityScore(name='perplexity_score_gram3',\n",
    "                                      class_ids = ['@default_class'], \n",
    "                                      dictionary=dictionary))\n",
    "\n",
    "# Разреженность p(c|t) аналогична разреженности p(t|c)\n",
    "model.scores.add(\n",
    "    artm.SparsityPhiScore(\n",
    "        name='sparsity_phi_score_c',\n",
    "        class_id='labels'))\n",
    "\n",
    "# Разреженность p(w|t)\n",
    "model.scores.add(\n",
    "    artm.SparsityPhiScore(\n",
    "        name='sparsity_phi_score_gram3',\n",
    "        class_id='@default_class'))\n",
    "\n",
    "model.num_document_passes = n_document_passes\n",
    "# Регуляризатор разреженности p(c|t)\n",
    "# model.regularizers.add(artm.SmoothSparsePhiRegularizer(name='sparse_phi_regularizer'))\n",
    "# model.regularizers['sparse_phi_regularizer'].tau = -1.0\n",
    "# model.regularizers['sparse_phi_regularizer'].class_ids = 'labels'"
   ]
  },
  {
   "cell_type": "code",
   "execution_count": 19,
   "metadata": {
    "collapsed": true
   },
   "outputs": [],
   "source": [
    "scores_folds_iter  = {}\n",
    "perplexity_c = {}\n",
    "perplexity_gram3 = {}\n",
    "sparsity_phi_c = {}\n",
    "sparsity_phi_gram3 = {}\n",
    "\n",
    "for i in range(n_collection_passes):\n",
    "    scores_folds_iter[i] = []\n",
    "    perplexity_c[i] = []\n",
    "    perplexity_gram3[i] = []\n",
    "    sparsity_phi_c[i] = []\n",
    "    sparsity_phi_gram3[i] = []"
   ]
  },
  {
   "cell_type": "code",
   "execution_count": 20,
   "metadata": {
    "collapsed": true
   },
   "outputs": [],
   "source": [
    "w_gram3 = np.ones(n_collection_passes)\n",
    "tau   = np.repeat([1, 10, 100, 1000, 1e4, 1e5], 10)\n",
    "c ='labels'\n",
    "gram3 = '@default_class'"
   ]
  },
  {
   "cell_type": "code",
   "execution_count": 36,
   "metadata": {
    "collapsed": false
   },
   "outputs": [
    {
     "name": "stdout",
     "output_type": "stream",
     "text": [
      "CPU times: user 18 µs, sys: 31 µs, total: 49 µs\n",
      "Wall time: 55.1 µs\n"
     ]
    }
   ],
   "source": [
    "%%time\n",
    "cols = ['doc{}'.format(i) for i in range (test_theta.shape[1] - 1)]\n",
    "cols.insert(0, 'index')"
   ]
  },
  {
   "cell_type": "code",
   "execution_count": 35,
   "metadata": {
    "collapsed": false
   },
   "outputs": [
    {
     "name": "stdout",
     "output_type": "stream",
     "text": [
      "CPU times: user 25 µs, sys: 44 µs, total: 69 µs\n",
      "Wall time: 73 µs\n"
     ]
    }
   ],
   "source": [
    "%%time\n",
    "cols = ['doc{}'.format(i) for i in range (test_theta.shape[1] - 1)]\n",
    "cols = ['index'] + cols"
   ]
  },
  {
   "cell_type": "code",
   "execution_count": 21,
   "metadata": {
    "collapsed": false
   },
   "outputs": [
    {
     "name": "stdout",
     "output_type": "stream",
     "text": [
      "\n"
     ]
    },
    {
     "name": "stderr",
     "output_type": "stream",
     "text": [
      "Widget Javascript not detected.  It may not be installed properly. Did you enable the widgetsnbextension? If not, then run \"jupyter nbextension enable --py --sys-prefix widgetsnbextension\"\n",
      "Widget Javascript not detected.  It may not be installed properly. Did you enable the widgetsnbextension? If not, then run \"jupyter nbextension enable --py --sys-prefix widgetsnbextension\"\n"
     ]
    }
   ],
   "source": [
    "for n_iter in xrange(n_collection_passes):\n",
    "\n",
    "    model.class_ids = {\n",
    "        gram3: w_gram3[n_iter],\n",
    "        c: tau[n_iter]}\n",
    "\n",
    "    model.fit_offline(\n",
    "        num_collection_passes=1,\n",
    "        batch_vectorizer=batch_vectorizer_fit)\n",
    "\n",
    "    perplexity_c[n_iter].append(\n",
    "        model.score_tracker['perplexity_score_c'].last_value)\n",
    "\n",
    "    perplexity_gram3[n_iter].append(\n",
    "        model.score_tracker['perplexity_score_gram3'].last_value)\n",
    "\n",
    "    sparsity_phi_c[n_iter].append(\n",
    "        model.score_tracker['sparsity_phi_score_c'].last_value)\n",
    "\n",
    "    sparsity_phi_gram3[n_iter].append(\n",
    "        model.score_tracker['sparsity_phi_score_gram3'].last_value)\n",
    "\n",
    "    break"
   ]
  },
  {
   "cell_type": "code",
   "execution_count": 40,
   "metadata": {
    "collapsed": false
   },
   "outputs": [
    {
     "name": "stdout",
     "output_type": "stream",
     "text": [
      "\r"
     ]
    },
    {
     "name": "stderr",
     "output_type": "stream",
     "text": [
      "Widget Javascript not detected.  It may not be installed properly. Did you enable the widgetsnbextension? If not, then run \"jupyter nbextension enable --py --sys-prefix widgetsnbextension\"\n"
     ]
    }
   ],
   "source": [
    "test_theta = model.transform(\n",
    "    batch_vectorizer=batch_vectorizer_test,\n",
    "    predict_class_id='labels').reset_index()\n",
    "\n",
    "cols = ['doc{}'.format(i) for i in range (test_theta.shape[1] - 1)]\n",
    "cols.insert(0, 'index')\n",
    "test_theta.columns = cols"
   ]
  },
  {
   "cell_type": "code",
   "execution_count": 45,
   "metadata": {
    "collapsed": false
   },
   "outputs": [
    {
     "data": {
      "text/plain": [
       "array([[ 0.61316514,  0.60851097,  0.60393518,  0.62568569,  0.60075891,\n",
       "         0.61543214,  0.62937123,  0.61274517,  0.60699934,  0.59381074,\n",
       "         0.61546677,  0.61443806,  0.59517705,  0.60057259,  0.62105119,\n",
       "         0.62129676,  0.61516041,  0.59226847,  0.62811613,  0.63396972,\n",
       "         0.62541968,  0.59320492,  0.57759237,  0.58578968,  0.62421173,\n",
       "         0.6035471 ,  0.62141633,  0.61014259,  0.6093511 ,  0.62469697,\n",
       "         0.60081267,  0.6057936 ,  0.62465799,  0.62304384,  0.60242838,\n",
       "         0.6233831 ,  0.61697829,  0.61272353]], dtype=float32)"
      ]
     },
     "execution_count": 45,
     "metadata": {},
     "output_type": "execute_result"
    }
   ],
   "source": [
    "test_theta[test_theta['index'] == 'label1'][docs].values"
   ]
  },
  {
   "cell_type": "code",
   "execution_count": null,
   "metadata": {
    "collapsed": true
   },
   "outputs": [],
   "source": [
    "with open('data_ekg/data0/true_labels.txt' 'r') as fin:\n",
    "    y_true = [fin.readlines()"
   ]
  },
  {
   "cell_type": "code",
   "execution_count": 46,
   "metadata": {
    "collapsed": true
   },
   "outputs": [],
   "source": [
    "roc_auc_score()"
   ]
  },
  {
   "cell_type": "code",
   "execution_count": 131,
   "metadata": {
    "collapsed": false
   },
   "outputs": [],
   "source": [
    "for i in xrange(n_shuffle):\n",
    "    os.mkdir(data_dir)\n",
    "    #docs_freq, docs_freq3 = \n",
    "    separate_fold_for_cv(i, n_folds)\n",
    "    \n",
    "    for n_fold in range(n_folds):\n",
    "        create_batches(n_fold)\n",
    "\n",
    "    #test_labels_file = os.path.join(data_dir, 'true_labels.txt')\n",
    "    #true_p_cd = []\n",
    "    #with open(test_labels_file, 'r') as fin:\n",
    "    #    for line in fin.readlines():\n",
    "    #        if int(line.split(\" \")[0]):\n",
    "    #            true_p_cd.append(0)\n",
    "    #        else:\n",
    "    #            true_p_cd.append(1)\n",
    "\n",
    "    # true_p_cd = np.asarray(true_p_cd)\n",
    "\n",
    "    batch_vectorizer_fit = artm.BatchVectorizer(\n",
    "        data_path=os.path.join(\n",
    "            data_dir,\n",
    "            'data_batches_train'),\n",
    "        data_format=\"batches\")\n",
    "    batch_vectorizer_test = artm.BatchVectorizer(\n",
    "        data_path=os.path.join(\n",
    "            data_dir,\n",
    "            'data_batches_test'),\n",
    "        data_format=\"batches\")\n",
    "\n",
    "    dictionary = artm.Dictionary()\n",
    "    dictionary.gather(data_path=os.path.join(data_dir, 'for_dict'))\n",
    "\n",
    "    model = artm.ARTM(\n",
    "        num_topics=n_topics,\n",
    "        dictionary=dictionary,\n",
    "        cache_theta=True,\n",
    "        reuse_theta=True)\n",
    "\n",
    "    # Инициализация\n",
    "    #(_, phi_ref) = model.master.attach_model(model=model.model_pwt)\n",
    "    #phi_new = build_phi(n_topics, docs_freq, docs_freq3)\n",
    "    \n",
    "    #ind = list(model.get_phi(model_name=model.model_pwt).reset_index()['index'])\n",
    "    #phi_new = phi_new.reindex(ind).as_matrix()\n",
    "    \n",
    "    #for tok in xrange(n_tokens):\n",
    "    #    for top in xrange(n_topics):\n",
    "    #        phi_ref[tok, top] = phi_new[tok, top]\n",
    "\n",
    "    # Перплексия\n",
    "    #model.scores.add(artm.PerplexityScore(name='perplexity_score',\n",
    "    #                                      use_unigram_document_model=False,\n",
    "    #                                      dictionary=dictionary))\n",
    "    \n",
    "    model.scores.add(artm.PerplexityScore(name='perplexity_score_c',\n",
    "                                          class_ids = ['labels'], \n",
    "                                          use_unigram_document_model=False,\n",
    "                                          dictionary=dictionary))\n",
    "    \n",
    "    model.scores.add(artm.PerplexityScore(name='perplexity_score_gram3',\n",
    "                                          class_ids = ['@default_class'], \n",
    "                                          use_unigram_document_model=False,\n",
    "                                          dictionary=dictionary))\n",
    "    \n",
    "    # Разреженность p(c|t) аналогична разреженности p(t|c)\n",
    "    model.scores.add(\n",
    "        artm.SparsityPhiScore(\n",
    "            name='sparsity_phi_score_c',\n",
    "            class_id='labels'))\n",
    "    \n",
    "    # Разреженность p(w|t)\n",
    "    model.scores.add(\n",
    "        artm.SparsityPhiScore(\n",
    "            name='sparsity_phi_score_gram3',\n",
    "            class_id='@default_class'))\n",
    "    \n",
    "    model.num_document_passes = n_document_passes\n",
    "    # Регуляризатор разреженности p(c|t)\n",
    "    # model.regularizers.add(artm.SmoothSparsePhiRegularizer(name='sparse_phi_regularizer'))\n",
    "    # model.regularizers['sparse_phi_regularizer'].tau = -1.0\n",
    "    # model.regularizers['sparse_phi_regularizer'].class_ids = 'labels'\n",
    "\n",
    "    for n_iter in xrange(n_collection_passes):\n",
    "\n",
    "        model.class_ids = {\n",
    "            gram3: w_gram3[n_iter],\n",
    "            c: tau[n_iter]}\n",
    "\n",
    "        model.fit_offline(\n",
    "            num_collection_passes=1,\n",
    "            batch_vectorizer=batch_vectorizer_fit)\n",
    "\n",
    "        perplexity_c[n_iter].append(\n",
    "            model.score_tracker['perplexity_score_c'].last_value)\n",
    "        \n",
    "        perplexity_gram3[n_iter].append(\n",
    "            model.score_tracker['perplexity_score_gram3'].last_value)\n",
    "\n",
    "        sparsity_phi_c[n_iter].append(\n",
    "            model.score_tracker['sparsity_phi_score_c'].last_value)\n",
    "        \n",
    "        sparsity_phi_gram3[n_iter].append(\n",
    "            model.score_tracker['sparsity_phi_score_gram3'].last_value)\n",
    "\n",
    "        test_theta = model.transform(\n",
    "            batch_vectorizer=batch_vectorizer_test,\n",
    "            predict_class_id='labels').reset_index()\n",
    "        d = 'doc{}'.format(index)\n",
    "        test_theta.columns = ['index', d]\n",
    "        scores_folds_iter[n_iter].append(\n",
    "            float(test_theta[test_theta['index'] == 'label1'][d]))\n",
    "\n",
    "    test_theta.to_csv(\n",
    "        os.path.join(\n",
    "            theta_dir,\n",
    "            \"test_theta{}.csv\".format(index)))\n",
    "\n",
    "    # p(t|c)\n",
    "    theta = model.get_theta()\n",
    "    p_d = 1.0 / (n_obj - 1)\n",
    "    p_t = theta\n",
    "    p_t = p_t.multiply(p_d)\n",
    "    p_t = p_t.sum(axis=1)\n",
    "\n",
    "    phi = model.get_phi().reset_index()\n",
    "    p_ct = phi[(phi['index'] == 'label0') | (\n",
    "        phi['index'] == 'label1')].set_index('index')\n",
    "    p_ct = p_ct.multiply(p_t)\n",
    "    p_tc = p_ct.div(p_ct.sum(axis=1), axis='index').T\n",
    "\n",
    "    p_tc.to_csv(os.path.join(ptc_dir, \"p_tc{}.csv\".format(index)))\n",
    "    \n",
    "    shutil.rmtree(data_dir)\n",
    "    tl.push('done{}'.format(index))"
   ]
  },
  {
   "cell_type": "code",
   "execution_count": 132,
   "metadata": {
    "collapsed": false
   },
   "outputs": [
    {
     "data": {
      "image/png": "[encoded data removed]",
      "text/plain": [
       "<matplotlib.figure.Figure at 0x7f6eb87b1650>"
      ]
     },
     "metadata": {},
     "output_type": "display_data"
    }
   ],
   "source": [
    "# Последняя итерация\n",
    "figure(figsize=(6, 5))\n",
    "auc_last_iter = []\n",
    "topics_list = [2, 3, 4, 5, 6]\n",
    "max_tau = 100000\n",
    "\n",
    "file_src = 'auc_topics{}_tau{}_10000'.format(2, min_tau)\n",
    "with open(file_src + '.txt', 'r') as fin:\n",
    "    auc_last_iter.append([float(line) for line in fin.readlines()][-1])\n",
    "        \n",
    "for i in range(3, 7):\n",
    "    file_src = 'auc_topics{}_tau{}_{}'.format(i, min_tau, max_tau)\n",
    "    with open(file_src + '.txt', 'r') as fin:\n",
    "        auc_last_iter.append([float(line) for line in fin.readlines()][-1])\n",
    "\n",
    "plot(np.array(topics_list, dtype=int), auc_last_iter, color='magenta', marker='*', markersize=20,  lw=3)\n",
    "xlabel(\"$|T|$\", fontsize=18)\n",
    "ylabel('AUC', fontsize=18)\n",
    "title('AUC_last_iter', fontsize=18)\n",
    "#xlim(topics_list[-1])\n",
    "#xticks(np.arange(min(x), max(x)+1, 7))\n",
    "    #text(27, 200, '$|T|=2$', fontsize=18)\n",
    "    #text(27, 190, r'$ \\tau \\in range(1, 1e4, 10)$',  fontsize=18)\n",
    "    #text(35, 23, '$W^t=1$', fontsize=18)\n",
    "#savefig(file_src + '.eps', format = 'eps')\n",
    "#savefig('perplexity_{}_topics_wc_{}_tokens.png'.format(n_topics, w_c))\n",
    "show()"
   ]
  },
  {
   "cell_type": "code",
   "execution_count": 129,
   "metadata": {
    "collapsed": false
   },
   "outputs": [
    {
     "name": "stdout",
     "output_type": "stream",
     "text": [
      "Populating the interactive namespace from numpy and matplotlib\n"
     ]
    },
    {
     "data": {
      "image/png": "[encoded data removed]",
      "text/plain": [
       "<matplotlib.figure.Figure at 0x7f6eda32edd0>"
      ]
     },
     "metadata": {},
     "output_type": "display_data"
    }
   ],
   "source": [
    "import seaborn as sns\n",
    "%pylab inline\n",
    "figure(figsize=(6, 5))\n",
    "p_tc = pd.read_csv('p_tc_topics2_tau1_10000.csv', index_col=0)\n",
    "sns.heatmap(p_tc.as_matrix())\n",
    "text(0.2, 2.1, '$topic0$', fontsize=18)\n",
    "text(1.29, 2.1, '$topic1$', fontsize=18)\n",
    "#text(0.0001, 1.5, '$label0$', fontsize=18, rotation='vertical')\n",
    "#title('p(t|c)', fontsize=20)\n",
    "savefig('p_tc_topics2_tau1_10000.eps', format = 'eps')\n",
    "show()"
   ]
  },
  {
   "cell_type": "code",
   "execution_count": 94,
   "metadata": {
    "collapsed": true
   },
   "outputs": [],
   "source": [
    "# Правильные ответы\n",
    "\n",
    "true_p_cd = []\n",
    "with open ('vw.txt', 'r') as fin:\n",
    "    for index, line in enumerate(fin.readlines()):\n",
    "        line_ = \"%s \"%(line.split('|',1)[1][:-1])\n",
    "        str_ = re.findall(r'\\:(.*?)\\ ', line_)\n",
    "        \n",
    "        if int(str_[0]):\n",
    "            true_p_cd.append(0)\n",
    "        else:\n",
    "            true_p_cd.append(1)"
   ]
  },
  {
   "cell_type": "code",
   "execution_count": 96,
   "metadata": {
    "collapsed": false
   },
   "outputs": [],
   "source": [
    "# Перплексия. gram3\n",
    "f = 'perplexity_topics{}_tau{}_{}_gram3.txt'.format(n_topics, min_tau, max_tau)\n",
    "\n",
    "with open(f, 'w') as fout:\n",
    "    for n_iter, value in perplexity_gram3.items():\n",
    "        fout.write(\"{}\\n\".format(np.mean(value)))\n",
    "\n",
    "# Перплексия. labels\n",
    "f = 'perplexity_topics{}_tau{}_{}_c.txt'.format(n_topics, min_tau, max_tau)\n",
    "\n",
    "with open(f, 'w') as fout:\n",
    "    for n_iter, value in perplexity_c.items():\n",
    "        fout.write(\"{}\\n\".format(np.mean(value)))"
   ]
  },
  {
   "cell_type": "code",
   "execution_count": 97,
   "metadata": {
    "collapsed": false
   },
   "outputs": [],
   "source": [
    "# Разреженность. gram3\n",
    "f = 'sparsity_topics{}_tau{}_{}_gram3.txt'.format(n_topics, min_tau, max_tau)\n",
    "\n",
    "with open(f, 'w') as fout:\n",
    "    for n_iter, value in sparsity_phi_gram3.items():\n",
    "        fout.write(\"{}\\n\".format(np.mean(value)))\n",
    "\n",
    "# Разреженность. labels\n",
    "f = 'sparsity_topics{}_tau{}_{}_c.txt'.format(n_topics, min_tau, max_tau)\n",
    "\n",
    "with open(f, 'w') as fout:\n",
    "    for n_iter, value in sparsity_phi_c.items():\n",
    "        fout.write(\"{}\\n\".format(np.mean(value)))"
   ]
  },
  {
   "cell_type": "code",
   "execution_count": 98,
   "metadata": {
    "collapsed": false
   },
   "outputs": [],
   "source": [
    "# p(t|c)\n",
    "\n",
    "src = os.path.join(ptc_dir, 'p_tc{}.csv'.format(0))\n",
    "p_tc_mean = pd.read_csv(src, index_col=0).as_matrix()\n",
    "\n",
    "for i in range(1, n_obj):\n",
    "    src = os.path.join(ptc_dir, 'p_tc{}.csv'.format(i))\n",
    "    p_tc_mean += pd.read_csv(src, index_col=0).as_matrix()\n",
    "\n",
    "p_tc_mean /= float(n_obj)\n",
    "\n",
    "pd.DataFrame(\n",
    "    p_tc_mean, index=[\n",
    "        'topic{}'.format(i) for i in range(n_topics)],\n",
    "    columns=['label0', 'label1']).to_csv(\n",
    "    'p_tc_topics{}_tau{}_{}.csv'.format(\n",
    "        n_topics, min_tau, max_tau))"
   ]
  },
  {
   "cell_type": "code",
   "execution_count": 99,
   "metadata": {
    "collapsed": false
   },
   "outputs": [],
   "source": [
    "# p(c|d). LogLoss\n",
    "\n",
    "src = os.path.join(theta_dir, 'test_theta{}.csv'.format(0)) \n",
    "p_cd = pd.read_csv(src, index_col=0)\n",
    "\n",
    "for i in range(1, n_obj):\n",
    "    src = os.path.join(theta_dir, 'test_theta{}.csv'.format(i)) \n",
    "    d = 'doc{}'.format(i)\n",
    "    p_cd[d] = pd.read_csv(src, index_col=0)[d]\n",
    "    \n",
    "docs = [col_name for col_name in p_cd.columns if col_name != 'index']\n",
    "p_cd = p_cd[p_cd['index'] == 'label1'][docs].T[1].tolist()\n",
    "logloss = log_loss(true_p_cd, p_cd)"
   ]
  },
  {
   "cell_type": "code",
   "execution_count": 100,
   "metadata": {
    "collapsed": false
   },
   "outputs": [
    {
     "data": {
      "text/plain": [
       "0.51070031739192756"
      ]
     },
     "execution_count": 100,
     "metadata": {},
     "output_type": "execute_result"
    }
   ],
   "source": [
    "# n_topics = 6; tau in (1, 1e5, 10)\n",
    "\n",
    "logloss"
   ]
  },
  {
   "cell_type": "code",
   "execution_count": 60,
   "metadata": {
    "collapsed": false
   },
   "outputs": [
    {
     "data": {
      "text/plain": [
       "0.54186559594112138"
      ]
     },
     "execution_count": 60,
     "metadata": {},
     "output_type": "execute_result"
    }
   ],
   "source": [
    "# n_topics = 5; tau in (1, 1e5, 10)\n",
    "\n",
    "logloss"
   ]
  },
  {
   "cell_type": "code",
   "execution_count": 34,
   "metadata": {
    "collapsed": false
   },
   "outputs": [
    {
     "data": {
      "text/plain": [
       "0.50041592207298435"
      ]
     },
     "execution_count": 34,
     "metadata": {},
     "output_type": "execute_result"
    }
   ],
   "source": [
    "# n_topics = 4; tau in (1, 1e5, 10)\n",
    "\n",
    "logloss"
   ]
  },
  {
   "cell_type": "code",
   "execution_count": 44,
   "metadata": {
    "collapsed": false
   },
   "outputs": [
    {
     "data": {
      "text/plain": [
       "0.57280594889530834"
      ]
     },
     "execution_count": 44,
     "metadata": {},
     "output_type": "execute_result"
    }
   ],
   "source": [
    "# n_topics = 3; tau in (1, 1e5, 10)\n",
    "\n",
    "logloss"
   ]
  },
  {
   "cell_type": "code",
   "execution_count": 143,
   "metadata": {
    "collapsed": false
   },
   "outputs": [
    {
     "data": {
      "text/plain": [
       "0.49179636714696534"
      ]
     },
     "execution_count": 143,
     "metadata": {},
     "output_type": "execute_result"
    }
   ],
   "source": [
    "# n_topics = 2; tau in (1, 1e4, 10)\n",
    "\n",
    "logloss"
   ]
  },
  {
   "cell_type": "code",
   "execution_count": 95,
   "metadata": {
    "collapsed": false
   },
   "outputs": [],
   "source": [
    "# AUC\n",
    "\n",
    "iters = [n_iter + 1 for n_iter in scores_folds_iter.keys()]\n",
    "\n",
    "auc_scores = [\n",
    "    roc_auc_score(\n",
    "        np.asarray(true_p_cd),\n",
    "        np.asarray(value)) for key,\n",
    "    value in scores_folds_iter.iteritems()]\n",
    "\n",
    "f = 'auc_topics{}_tau{}_{}.txt'.format(n_topics, min_tau, max_tau)\n",
    "with open(f, 'w') as fout:\n",
    "    for score in auc_scores:\n",
    "        fout.write('{}\\n'.format(score))"
   ]
  },
  {
   "cell_type": "code",
   "execution_count": null,
   "metadata": {
    "collapsed": true
   },
   "outputs": [],
   "source": []
  }
 ],
 "metadata": {
  "kernelspec": {
   "display_name": "Python 2",
   "language": "python",
   "name": "python2"
  },
  "language_info": {
   "codemirror_mode": {
    "name": "ipython",
    "version": 2
   },
   "file_extension": ".py",
   "mimetype": "text/x-python",
   "name": "python",
   "nbconvert_exporter": "python",
   "pygments_lexer": "ipython2",
   "version": "2.7.10"
  }
 },
 "nbformat": 4,
 "nbformat_minor": 0
}
