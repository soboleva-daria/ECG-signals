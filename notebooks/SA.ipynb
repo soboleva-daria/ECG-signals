{
 "cells": [
  {
   "cell_type": "markdown",
   "metadata": {},
   "source": [
    "## Синдромный алгоритм"
   ]
  },
  {
   "cell_type": "code",
   "execution_count": 93,
   "metadata": {
    "collapsed": false
   },
   "outputs": [],
   "source": [
    "#! /usr/bin/env python\n",
    "# -*- coding: utf-8 -*-\n",
    "% reset -f\n",
    "%matplotlib inline\n",
    "import random\n",
    "import pandas as pd\n",
    "import numpy as np\n",
    "from sklearn import metrics\n",
    "from sklearn.metrics import roc_auc_score"
   ]
  },
  {
   "cell_type": "markdown",
   "metadata": {},
   "source": [
    "### Генерация случайных данных"
   ]
  },
  {
   "cell_type": "code",
   "execution_count": 103,
   "metadata": {
    "collapsed": false
   },
   "outputs": [],
   "source": [
    "# Число объектов\n",
    "objects_num = 100\n",
    "# Число триграмм\n",
    "features_num = 216\n",
    "# Матрица с числом вхождений триграмм\n",
    "train_data = np.random.randint(10, size=(objects_num, features_num))\n",
    "test_data = np.random.randint(10, size=(objects_num, features_num))\n",
    "# Вектор с метками классов: 0-здоров, 1-болен\n",
    "train_labels = np.random.randint(2, size=(objects_num))\n",
    "test_labels = np.random.randint(2, size=(objects_num))"
   ]
  },
  {
   "cell_type": "markdown",
   "metadata": {},
   "source": [
    "### Задание параметров алгоритма"
   ]
  },
  {
   "cell_type": "code",
   "execution_count": 104,
   "metadata": {
    "collapsed": false
   },
   "outputs": [],
   "source": [
    "# Число отбираемых триграмм\n",
    "K = 30\n",
    "# Проводить или нет бинаризацию признаков\n",
    "do_bin = True\n",
    "# Порог для бинаризации (в случае do_bin = True):\n",
    "# признак равен 1, если число вхождений >= порога,\n",
    "# 0 - иначе\n",
    "bin_threshold = 1\n",
    "# Выбор весов у признаков:\n",
    "# 1: единичные веса\n",
    "# 2: веса - средние частоты (встречаемости) триграмм в классе больных\n",
    "# 3: веса - разность средних частот(встречаемостей) в классе больных и здоровых\n",
    "type_weights = 2\n",
    "# Выбор критерия сортировки признаков (для отбора top-K из них):\n",
    "# 1: средняя частота(встречаемость) признаков\n",
    "# 2: разность средних частот(встречаемостей) в классе больных и здоровых\n",
    "type_sort = 1"
   ]
  },
  {
   "cell_type": "markdown",
   "metadata": {},
   "source": [
    "### Обучение (настройка весов)"
   ]
  },
  {
   "cell_type": "code",
   "execution_count": 105,
   "metadata": {
    "collapsed": false
   },
   "outputs": [],
   "source": [
    "# 1. Бинаризация признаков\n",
    "if do_bin:\n",
    "    data = (train_data >= bin_threshold).astype(int)\n",
    "else:\n",
    "    data = train_data\n",
    "    \n",
    "# 2. Вычисление весов\n",
    "if type_weights == 1:\n",
    "    weights = np.ones(data.shape[1])\n",
    "elif type_weights == 2:\n",
    "    weights = np.mean(data[labels==1], axis=0)\n",
    "elif type_weights == 3:\n",
    "    weights = np.mean(data[labels==1], axis=0) - np.mean(data[labels==0], axis=0)\n",
    "# 3. Вычисление критерия сортировки\n",
    "if type_sort == 1:\n",
    "    sort_values = np.mean(data[labels==1], axis=0)\n",
    "elif type_sort == 2:\n",
    "    sort_values = np.mean(data[labels==1], axis=0) - np.mean(data[labels==0], axis=0)\n",
    "# 4. Отбор top-K признаков\n",
    "selected_feat = np.argsort(sort_values)[::-1][:K]\n",
    "# 5. Обнуление весов остальных признаков\n",
    "final_weights = np.zeros(weights.shape)\n",
    "final_weights[selected_feat] = weights[selected_feat]"
   ]
  },
  {
   "cell_type": "markdown",
   "metadata": {},
   "source": [
    "### Оценивание качества"
   ]
  },
  {
   "cell_type": "code",
   "execution_count": 106,
   "metadata": {
    "collapsed": false
   },
   "outputs": [
    {
     "name": "stdout",
     "output_type": "stream",
     "text": [
      "0.562700320513\n"
     ]
    }
   ],
   "source": [
    "# Оценивание принадлежности объектов к классу 1\n",
    "probas = np.dot(test_data, final_weights.reshape(1, features_num).T)\n",
    "# Вычисление AUC\n",
    "fpr, tpr, thresholds = metrics.roc_curve(test_labels, probas)\n",
    "auc = metrics.auc(fpr,tpr)\n",
    "print(auc)"
   ]
  },
  {
   "cell_type": "code",
   "execution_count": null,
   "metadata": {
    "collapsed": true
   },
   "outputs": [],
   "source": []
  }
 ],
 "metadata": {
  "kernelspec": {
   "display_name": "Python 2",
   "language": "python",
   "name": "python2"
  },
  "language_info": {
   "codemirror_mode": {
    "name": "ipython",
    "version": 2
   },
   "file_extension": ".py",
   "mimetype": "text/x-python",
   "name": "python",
   "nbconvert_exporter": "python",
   "pygments_lexer": "ipython2",
   "version": "2.7.12"
  }
 },
 "nbformat": 4,
 "nbformat_minor": 0
}
