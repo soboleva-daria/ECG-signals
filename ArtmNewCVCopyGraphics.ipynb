{
 "cells": [
  {
   "cell_type": "code",
   "execution_count": 20,
   "metadata": {
    "collapsed": false
   },
   "outputs": [
    {
     "name": "stdout",
     "output_type": "stream",
     "text": [
      "Populating the interactive namespace from numpy and matplotlib\n"
     ]
    }
   ],
   "source": [
    "import os\n",
    "import shutil\n",
    "import numpy as np\n",
    "import pandas as pd\n",
    "import statsmodels.stats.api as sms\n",
    "\n",
    "%pylab inline"
   ]
  },
  {
   "cell_type": "code",
   "execution_count": 21,
   "metadata": {
    "collapsed": true
   },
   "outputs": [],
   "source": [
    "n_topics = 2\n",
    "min_tau = 1\n",
    "max_tau = 800\n",
    "\n",
    "n_iters = 60\n",
    "iters = [i + 1 for i in range(n_iters)]"
   ]
  },
  {
   "cell_type": "code",
   "execution_count": 4,
   "metadata": {
    "collapsed": true
   },
   "outputs": [],
   "source": [
    "def read_results(res_name):\n",
    "    file_name = '{}_topics{}_tau{}_{}.txt'.format(\n",
    "        res_name, n_topics, min_tau, max_tau)\n",
    "    res = {}\n",
    "    with open(file_name, 'r') as fin:\n",
    "        for i, line in enumerate(fin.readlines()):\n",
    "            res[i] = np.array(line.split(), dtype=float)\n",
    "\n",
    "    return res"
   ]
  },
  {
   "cell_type": "code",
   "execution_count": null,
   "metadata": {
    "collapsed": false
   },
   "outputs": [],
   "source": [
    "figure(figsize=(6, 5))\n",
    "\n",
    "auc_folds_iter = read_results('auc')\n",
    "\n",
    "mean_auc = [np.mean(value) for key, value in auc_folds_iter.items()]\n",
    "\n",
    "left_edge = []\n",
    "right_edge = []\n",
    "for auc in auc_folds_iter:\n",
    "    left, right = sms.DescrStatsW(auc).tconfint_mean()\n",
    "    left_edge.append(left)\n",
    "    right_edge.append(right)\n",
    "\n",
    "\n",
    "fill_between(iters, left_edge, right_edge, color='violet')\n",
    "plot(iters, mean_auc, color='magenta', lw=3)\n",
    "\n",
    "xlabel('iteration', fontsize=18)\n",
    "xlim([1, n_iters])\n",
    "xticks(list(xticks()[0][1:]) + [1])\n",
    "\n",
    "ylabel('AUC', fontsize=18)\n",
    "title('AUC_CV', fontsize=18)\n",
    "#text(35, 0.7, r'$|T|=2$', fontsize=18)\n",
    "#text(35, 0.6, r'$\\tau \\in range(1, 800)$', fontsize=18)\n",
    "\n",
    "#savefig(\n",
    "#    os.path.join(\n",
    "#        new_dir, 'auc_topics{}_tau{}_{}.eps'.format(\n",
    "#            n_topics, int(\n",
    "#                np.min(tau)), int(\n",
    "#                    np.max(tau)))), format='eps')\n",
    "\n",
    "show()"
   ]
  },
  {
   "cell_type": "code",
   "execution_count": null,
   "metadata": {
    "collapsed": false
   },
   "outputs": [],
   "source": [
    "figure(figsize=(6, 5))\n",
    "\n",
    "logloss_folds_iter = read_results('logloss')\n",
    "\n",
    "mean_logloss = [np.mean(value) for key, value in logloss_folds_iter.items()]\n",
    "\n",
    "left_edge = []\n",
    "right_edge = []\n",
    "for logloss in logloss_folds_iter:\n",
    "    left, right = sms.DescrStatsW(auc).tconfint_mean()\n",
    "    left_edge.append(left)\n",
    "    right_edge.append(right)\n",
    "\n",
    "fill_between(iters, left_edge, right_edge, color='violet')\n",
    "plot(iters, mean_logloss, color='magenta', lw=3)\n",
    "\n",
    "xlabel('iteration', fontsize=18)\n",
    "xlim([1, n_iters])\n",
    "xticks(list(xticks()[0][1:]) + [1])\n",
    "\n",
    "ylabel('LogLoss', fontsize=18)\n",
    "title('LogLoss_CV', fontsize=18)\n",
    "#text(35, 0.65, r'$|T|=2$', fontsize=18)\n",
    "#text(35, 0.6, r'$\\tau \\in range(1, 800)$', fontsize=18)\n",
    "#savefig(\n",
    "#    'logloss_topics{}_tau{}_{}.eps'.format(\n",
    "#        n_topics, int(\n",
    "#            np.min(tau)), int(\n",
    "#               np.max(tau))), format='eps')\n",
    "show()"
   ]
  },
  {
   "cell_type": "code",
   "execution_count": null,
   "metadata": {
    "collapsed": false
   },
   "outputs": [],
   "source": [
    "figure(figsize=(6, 5))\n",
    "\n",
    "perplexity_c = read_results('perplexity_c')\n",
    "\n",
    "mean_perplexity_c = [np.mean(value) for key, value in perplexity_c.items()]\n",
    "\n",
    "\n",
    "plot(iters, mean_perplexity_c, color='magenta', lw=3)\n",
    "\n",
    "xlabel('iteration', fontsize=18)\n",
    "xlim([1, n_iters])\n",
    "xticks(list(xticks()[0][1:]) + [1])\n",
    "ylabel('Perplexity', fontsize=18)\n",
    "title('Perplexity_CV' + r'$p(c|t)$', fontsize=18)\n",
    "\n",
    "#text(35, 1.7, r'$|T|=2$', fontsize=18)\n",
    "#text(35, 1.6, r'$\\tau \\in range(1, 800)$', fontsize=18)\n",
    "\n",
    "#savefig(\n",
    "#    os.path.join(\n",
    "#        new_dir, 'perplexity_c_topics{}_tau{}_{}.eps'.format(\n",
    "#            n_topics, int(\n",
    "#                np.min(tau)), int(\n",
    "#                    np.max(tau)))), format='eps')\n",
    "show()"
   ]
  },
  {
   "cell_type": "code",
   "execution_count": null,
   "metadata": {
    "collapsed": false
   },
   "outputs": [],
   "source": [
    "figure(figsize=(6, 5))\n",
    "\n",
    "perplexity_gram3 = read_results('perplexity_gram3')\n",
    "\n",
    "mean_perplexity_gram3 = [np.mean(value) for key, value in perplexity_gram3.items()]\n",
    "\n",
    "\n",
    "plot(iters, mean_perplexity_gram3, color='magenta', lw=3)\n",
    "\n",
    "xlabel('iteration', fontsize=18)\n",
    "xlim([1, n_iters])\n",
    "xticks(list(xticks()[0][1:]) + [1])\n",
    "ylabel('Perplexity', fontsize=18)\n",
    "title('Perplexity_CV' + r'$p(gram3|t)$', fontsize=18)\n",
    "\n",
    "#text(35, 1.7, r'$|T|=2$', fontsize=18)\n",
    "#text(35, 1.6, r'$\\tau \\in range(1, 800)$', fontsize=18)\n",
    "\n",
    "#savefig(\n",
    "#    os.path.join(\n",
    "#        new_dir, 'perplexity_c_topics{}_tau{}_{}.eps'.format(\n",
    "#            n_topics, int(\n",
    "#                np.min(tau)), int(\n",
    "#                    np.max(tau)))), format='eps')\n",
    "show()"
   ]
  },
  {
   "cell_type": "code",
   "execution_count": null,
   "metadata": {
    "collapsed": false
   },
   "outputs": [],
   "source": [
    "figure(figsize=(6, 5))\n",
    "\n",
    "sparsity_phi_c = read_results('sparsity_phi_c')\n",
    "sparsity_phi_gram3 = read_results('sparsity_phi_gram3')\n",
    "sparsity_theta = read_results('sparsity_theta')\n",
    "\n",
    "mean_sparsity_phi_c = [np.mean(value) for key, value in sparsity_phi_c.items()]\n",
    "mean_sparsity_phi_gram3 = [np.mean(value)\n",
    "                           for key, value in sparsity_phi_gram3.items()]\n",
    "mean_sparsity_theta = [np.mean(value) for key, value in sparsity_theta.items()]\n",
    "\n",
    "plot(iters, mean_sparsity_phi_c, color='magenta', lw=3)\n",
    "plot(iters, mean_sparsity_phi_gram3, color='purple', lw=3)\n",
    "plot(iters, mean_sparsity_theta, color='green', lw=3)\n",
    "\n",
    "xlabel('iteration', fontsize=18)\n",
    "xlim([1, n_iters])\n",
    "xticks(list(xticks()[0][1:]) + [1])\n",
    "ylabel('Sparsity', fontsize=18)\n",
    "title('Sparsity_CV', fontsize=18)\n",
    "legend([r'$p(c|t)$', r'$p(gram3|t)$', r'$p(t|d)$'], loc = 'upper left', fontsize = 15)\n",
    "#text(10, 0.3, r'$|T|=2$', fontsize=18)\n",
    "#text(10, 0.25, r'$\\tau \\in range(1, 800)$', fontsize=18)\n",
    "\n",
    "#savefig(\n",
    "#    os.path.join(\n",
    "#        new_dir, 'sparsity_topics{}_tau{}_{}.eps'.format(\n",
    "#            n_topics, int(\n",
    "#                np.min(tau)), int(\n",
    "#                    np.max(tau)))), format='eps')\n",
    "show()"
   ]
  },
  {
   "cell_type": "code",
   "execution_count": null,
   "metadata": {
    "collapsed": false
   },
   "outputs": [],
   "source": [
    "import seaborn as sns\n",
    "figure(figsize=(6, 5))\n",
    "\n",
    "file_src = 'ptc_topics{}_tau{}_{}.csv'.format(n_topics, min_tau, max_tau)\n",
    "ptc = pd.read_csv(file_src, index_col=0, sep=',')\n",
    "\n",
    "sns.heatmap(ptc.as_matrix())\n",
    "text(0.2, 2.1, '$topic0$', fontsize=18)\n",
    "text(1.29, 2.1, '$topic1$', fontsize=18)\n",
    "\n",
    "#savefig(os.path.join(new_dir, '{}.eps'.format(file_src)), format = 'eps')\n",
    "\n",
    "show()"
   ]
  }
 ],
 "metadata": {
  "kernelspec": {
   "display_name": "Python 2",
   "language": "python",
   "name": "python2"
  },
  "language_info": {
   "codemirror_mode": {
    "name": "ipython",
    "version": 2
   },
   "file_extension": ".py",
   "mimetype": "text/x-python",
   "name": "python",
   "nbconvert_exporter": "python",
   "pygments_lexer": "ipython2",
   "version": "2.7.12"
  }
 },
 "nbformat": 4,
 "nbformat_minor": 0
}
