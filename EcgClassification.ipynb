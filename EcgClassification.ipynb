{
 "cells": [
  {
   "cell_type": "code",
   "execution_count": 1,
   "metadata": {
    "collapsed": false
   },
   "outputs": [
    {
     "name": "stdout",
     "output_type": "stream",
     "text": [
      "Populating the interactive namespace from numpy and matplotlib\n"
     ]
    }
   ],
   "source": [
    "import pandas as pd\n",
    "import numpy as np\n",
    "import re\n",
    "import shutil\n",
    "import os\n",
    "import string\n",
    "from collections import OrderedDict\n",
    "from sklearn.metrics import roc_auc_score, log_loss\n",
    "from sklearn.cross_validation import StratifiedKFold,  train_test_split\n",
    "import statsmodels.stats.api as sms\n",
    "from IPython.display import display\n",
    "\n",
    "from build_model import EcgClassification\n",
    "%pylab inline"
   ]
  },
  {
   "cell_type": "code",
   "execution_count": 2,
   "metadata": {
    "collapsed": true
   },
   "outputs": [],
   "source": [
    "from itertools import product \n",
    "def trigrams():\n",
    "    tokens = []\n",
    "    for token in product(string.ascii_uppercase, repeat=3):\n",
    "\n",
    "        if token[0] > 'F':\n",
    "            break\n",
    "\n",
    "        if token[1] > 'F' or token[2] > 'F':\n",
    "            continue\n",
    "\n",
    "        tokens.append(''.join(token))\n",
    "    return tokens\n",
    "trs = trigrams()"
   ]
  },
  {
   "cell_type": "code",
   "execution_count": 3,
   "metadata": {
    "collapsed": false
   },
   "outputs": [],
   "source": [
    "def create_train_vw(data_all, target, file_res, file_true_labels, file_observs_train):\n",
    "    n_observs = data_all.n_observ\n",
    "    X_train = data_all[np.setdiff1d(data_all.columns, [target])][trs]\n",
    "    y_train = data_all[target]\n",
    "    \n",
    "    dis_idxs = y_train[y_train == 1].index\n",
    "    data = X_train.T.apply(OrderedDict)\n",
    "\n",
    "    with open(file_true_labels + '.txt', 'w') as lab:\n",
    "        with open(file_res + '.txt', 'w') as fout:\n",
    "            for key, value  in zip(data.index, data):\n",
    "                fout.write('{} '.format(n_observs.loc[key]))\n",
    "\n",
    "                for tr, freq in value.items():\n",
    "                    fout.write('{}:{} '.format(tr, freq))\n",
    "\n",
    "                fout.write('|labels ')\n",
    "\n",
    "                if key in dis_idxs:\n",
    "                    fout.write('{}:{} '.format('label0', 0))\n",
    "                    fout.write('{}:{}'.format(' label1', 1))\n",
    "                    lab.write('1')\n",
    "                else:\n",
    "                    fout.write('{}:{}'.format('label0', 1))\n",
    "                    fout.write('{}:{}'.format(' label1', 0))\n",
    "                    lab.write('0')\n",
    "\n",
    "                fout.write('\\n')\n",
    "                lab.write('\\n')\n",
    "    np.save(file_res + '.npy', X_train.values)\n",
    "    np.save(file_true_labels + '.npy', y_train.values) \n",
    "    np.save(file_observs_train + '.npy', n_observs)\n",
    "    \n",
    "def create_valid_vw(data_all, target, file_res, file_true_labels):\n",
    "    n_observs = data_all.n_observ\n",
    "    X_valid = data_all[np.setdiff1d(data_all.columns, [target])][trs]\n",
    "    y_valid = data_all[target]\n",
    "    \n",
    "    dis_idxs = y_valid[y_valid == 1].index\n",
    "    data = X_valid[trs].T.apply(OrderedDict)\n",
    "\n",
    "    with open(file_true_labels + '.txt', 'w') as lab:\n",
    "        with open(file_res + '.txt', 'w') as fout:\n",
    "            for key, value  in zip(data.index, data):\n",
    "                fout.write('{} '.format(n_observs.loc[key]))\n",
    "\n",
    "                for tr, freq in value.items():\n",
    "                    fout.write('{}:{} '.format(tr, freq))\n",
    "\n",
    "                #fout.write('|labels ')\n",
    "\n",
    "                if key in dis_idxs:\n",
    "                    lab.write('1')\n",
    "                else:\n",
    "                    lab.write('0')\n",
    "\n",
    "                fout.write('\\n')\n",
    "                lab.write('\\n')\n",
    "    np.save(file_res + '.npy', X_valid.values)\n",
    "    np.save(file_true_labels + '.npy', y_valid.values)"
   ]
  },
  {
   "cell_type": "code",
   "execution_count": 4,
   "metadata": {
    "collapsed": true
   },
   "outputs": [],
   "source": [
    "def reject_shuffle(idxs, n_shuffles):\n",
    "    orders = set()       \n",
    "    for i in range(n_shuffles):\n",
    "        while tuple(idxs) in orders:\n",
    "            np.random.shuffle(idxs)\n",
    "        orders.add(tuple(idxs))\n",
    "    for idx in orders:\n",
    "        yield idx\n",
    "\n",
    "def create_shuffled_vws(file_src, file_true_labels, file_observs_train, n_shuffles):\n",
    "    with open(file_src + '.txt', 'r') as fin:\n",
    "        data = fin.readlines()\n",
    "    data_arr = np.load(file_src + '.npy')\n",
    "\n",
    "    with open(file_true_labels + '.txt', 'r') as fin:\n",
    "        y_true = fin.readlines()\n",
    "    y_true_arr = np.load(file_true_labels + '.npy')\n",
    "    n_observs = np.load(file_observs_train + '.npy')\n",
    "    \n",
    "    idxs = np.arange(data_arr.shape[0])\n",
    "    for i, idx in enumerate(reject_shuffle(idxs, n_shuffles)):\n",
    "        idx_val = np.array(idx, dtype=int)\n",
    "        data_shuffle = np.array(data)[idx_val]\n",
    "        y_true_shuffle = np.array(y_true)[idx_val]\n",
    "        \n",
    "        data_arr_shuffle = data_arr[idx_val]\n",
    "        y_true_arr_shuffle = y_true_arr[idx_val]\n",
    "        n_observs_shuffle = n_observs[idx_val]\n",
    "    \n",
    "        with open('{}{}.txt'.format(file_src, i), 'w') as fout:\n",
    "            fout.write(''.join(data_shuffle))\n",
    "        np.save('{}{}.npy'.format(file_src, i), data_arr_shuffle)\n",
    "        \n",
    "        with open('{}{}.txt'.format(file_true_labels, i), 'w') as fout:\n",
    "            fout.write(''.join(y_true_shuffle))\n",
    "        np.save('{}{}.npy'.format(file_true_labels, i), y_true_arr_shuffle)\n",
    "        np.save('{}{}.npy'.format(file_observs_train, i), n_observs_shuffle)"
   ]
  },
  {
   "cell_type": "code",
   "execution_count": 5,
   "metadata": {
    "collapsed": false
   },
   "outputs": [],
   "source": [
    "n_dis = 69\n",
    "n_diseas = np.array([95, 13, 102, 32, 96, 70, 101], dtype=int)\n",
    "n_health = 1\n",
    "\n",
    "data = pd.read_csv('data.txt', sep='\\t')\n",
    "data.columns = ['n_record', 'n_observ'] + list(range(1, 137))\n",
    "\n",
    "p3 = pd.read_csv('p3.txt', sep='\\t')\n",
    "p3.columns  = trs\n",
    "\n",
    "ind_health = data[n_health] == 1\n",
    "ind_dis = data[n_dis] == 1\n",
    "\n",
    "data_health = p3.loc[ind_health]\n",
    "data_dis = p3.loc[ind_dis]\n",
    "\n",
    "data_all = pd.concat([data_health, data_dis], axis=0)\n",
    "data_all['n_observ'] = data.n_observ\n",
    "\n",
    "target = 'p_chronic_cholecystitis'\n",
    "data_all[target] = 0\n",
    "data_all.loc[ind_dis, target]  = 1\n",
    "data_all = data_all.sample(frac=1, random_state=241)\n",
    "\n",
    "observs = data_all.n_observ.unique()\n",
    "train_size = int(observs.shape[0] * 0.7) + 1\n",
    "np.random.seed(241)\n",
    "train_observs = np.random.choice(\n",
    "                   observs,\n",
    "                   train_size,\n",
    "                   replace=False)\n",
    "\n",
    "train_idxs = data_all.n_observ.isin(train_observs)\n",
    "train = data_all[train_idxs]\n",
    "valid = data_all[~train_idxs]\n",
    "\n",
    "X_train = train[trs]\n",
    "y_train = train[target]\n",
    "\n",
    "X_valid = valid[trs]\n",
    "y_valid = valid[target]\n",
    "\n",
    "\n",
    "n_shuffles = 10\n",
    "#create_train_vw(train, target, 'vw_train', 'true_labels_train', 'observs_train')\n",
    "#create_valid_vw(valid, target, 'vw_valid', 'true_labels_valid')\n",
    "\n",
    "#create_shuffled_vws('vw_train', 'true_labels_train', 'observs_train', n_shuffles)"
   ]
  },
  {
   "cell_type": "code",
   "execution_count": 84,
   "metadata": {
    "collapsed": true
   },
   "outputs": [],
   "source": [
    "def NaiveBayes(X_train, y_train, X_test, y_test, k, *args):\n",
    "    #X_train_bin = (X_train >= bin_thr).astype(int)\n",
    "    #X_test_bin = (X_test >= bin_thr).astype(int)\n",
    "    \n",
    "    p_cw = np.zeros((2, k))\n",
    "    p_cw[0, :] = X_train[y_train == 0].sum(axis=0) \n",
    "    p_cw[1, :] = X_train[y_train == 1].sum(axis=0)  \n",
    "    p_cw /= X_train.sum(axis=0) \n",
    "    p_cw[np.isnan(p_cw)] = 0.5\n",
    "    \n",
    "    probas_train = p_cw.dot(X_train.T) \n",
    "    probas_test = p_cw.dot(X_test.T) \n",
    "    \n",
    "    predict_train = probas_train[1] \n",
    "    predict_train /= predict_train.max() or 1\n",
    "    \n",
    "    predict_test = probas_test[1] \n",
    "    predict_test /= predict_test.max() or 1\n",
    "\n",
    "    return (roc_auc_score(y_train, predict_train),\n",
    "            roc_auc_score(y_test, predict_test),\n",
    "            log_loss(y_train, predict_train),\n",
    "            log_loss(y_test, predict_test))"
   ]
  },
  {
   "cell_type": "code",
   "execution_count": 38,
   "metadata": {
    "collapsed": true
   },
   "outputs": [],
   "source": [
    "def sindrom_algorithm(X_train, y_train, X_test, y_test, k, bin_thr, type_weights):\n",
    "    X_train_bin = (X_train >= bin_thr).astype(int)\n",
    "    X_test_bin = (X_test >= bin_thr).astype(int)\n",
    "    \n",
    "    n_dis = np.count_nonzero(y_train)\n",
    "\n",
    "    sort_values_dis = (X_train_bin[y_train == 1].sum(\n",
    "        axis=0) + 1.0) / (n_dis + 2.0)\n",
    "    sort_values_health = (X_train_bin[y_train == 0].sum(\n",
    "        axis=0) + 1.0) / (y_train.shape[0] - n_dis + 2.0)\n",
    "\n",
    "    selected_feat = np.argsort(sort_values_dis)[::-1][:k]\n",
    "\n",
    "    if type_weights == 1:\n",
    "        weights = np.log(sort_values_dis * (1 - sort_values_health)) - \\\n",
    "            np.log(sort_values_health * (1 - sort_values_dis))\n",
    "    else:\n",
    "        weights = np.mean(X_train_bin[y_train == 1], axis=0) - np.mean(X_train_bin[y_train == 0], axis=0)\n",
    "        \n",
    "    final_weights = np.zeros(weights.shape)\n",
    "    final_weights[selected_feat] = weights[selected_feat]\n",
    "\n",
    "    predict_train = X_train_bin.dot(final_weights.reshape(final_weights.shape[0], 1))\n",
    "    predict_train /= predict_train.max() or 1\n",
    "    \n",
    "    predict_test = X_test_bin.dot(final_weights.reshape(final_weights.shape[0], 1))\n",
    "    predict_test /= predict_test.max() or 1\n",
    "    \n",
    "    return (roc_auc_score(y_train, predict_train),\n",
    "            roc_auc_score(y_test, predict_test),\n",
    "            log_loss(y_train, predict_train),\n",
    "            log_loss(y_test, predict_test))"
   ]
  },
  {
   "cell_type": "code",
   "execution_count": 37,
   "metadata": {
    "collapsed": false
   },
   "outputs": [],
   "source": [
    "def sindrom_algorithm_score(n_shuffles,\n",
    "                            n_folds,\n",
    "                            klist,\n",
    "                            bin_thrlist,\n",
    "                            type_weights):\n",
    "    (mean_auc, mean_logloss) =\\\n",
    "                        cross_val_score(sindrom_algorithm,\n",
    "                                        n_shuffles,\n",
    "                                        n_folds,\n",
    "                                        klist,\n",
    "                                        bin_thrlist,\n",
    "                                        type_weights)\n",
    "\n",
    "    figure(figsize=(12, 7))\n",
    "\n",
    "    xlim([min(klist), max(klist)])\n",
    "    ylim([0.5, 1])\n",
    "    xticks(arange(1, max(klist), 10))\n",
    "    tick_params(axis='both', which='major', labelsize=10)\n",
    "    xlabel('k', fontsize=18)\n",
    "    ylabel('AUC', fontsize=18)\n",
    "    values = []\n",
    "    keys = []\n",
    "    for key, value in sorted(mean_auc.items()):\n",
    "        values.append(value)\n",
    "        keys.append(key)\n",
    "    plot(keys, values, color='magenta', lw=5)\n",
    "    legend(['TrainCV'], fontsize=18, loc='best')\n",
    "    savefig('auc_SA_type_weights:{}.png'.format(type_weights))\n",
    "    show()\n",
    "\n",
    "    figure(figsize=(12, 7))\n",
    "    xlim([min(klist), max(klist)])\n",
    "    xticks(arange(1, max(klist), 10))\n",
    "    tick_params(axis='both', which='major', labelsize=10)\n",
    "    xlabel('k', fontsize=18)\n",
    "    ylabel('LogLoss', fontsize=18)\n",
    "    values = []\n",
    "    keys = []\n",
    "    for key, value in sorted(mean_logloss.items()):\n",
    "        values.append(value)\n",
    "        keys.append(key)\n",
    "    plot(keys, values, color='purple', lw=5)\n",
    "    legend(['TrainCV'], fontsize=18, loc='best')\n",
    "    savefig('logloss_SA_type_weights:{}.png'.format(type_weights))\n",
    "    show()\n",
    "    best_key = max(mean_auc, key=lambda i: mean_auc[i])\n",
    "    print ('SA. Type_weights:{}. Best_param:{}'.format(type_weights, best_key))\n",
    "    return best_key, mean_auc, mean_logloss"
   ]
  },
  {
   "cell_type": "code",
   "execution_count": 36,
   "metadata": {
    "collapsed": true
   },
   "outputs": [],
   "source": [
    "def cross_val_score(model, n_shuffles, n_folds, klist, bin_thrlist, *args):\n",
    "    auc_folds = {}\n",
    "    logloss_folds = {}\n",
    "    for k in klist:\n",
    "        for bin_thr in bin_thrlist:\n",
    "            key = (k, bin_thr)\n",
    "            auc_folds[key] = []\n",
    "            logloss_folds[key] = []\n",
    "        \n",
    "    for n_shuffle in range(n_shuffles):\n",
    "        X_train = np.load('vw_train{}.npy'.format(n_shuffle))\n",
    "        y_train = np.load('true_labels_train{}.npy'.format(n_shuffle))\n",
    "        n_observs = np.load('observs_train{}.npy'.format(n_shuffle))\n",
    "                \n",
    "        _, idx = np.unique(n_observs, return_index=True)\n",
    "        y_train_observs = y_train[np.sort(idx)]\n",
    "        skf = StratifiedKFold(y_train_observs, n_folds, random_state=241)\n",
    "        \n",
    "        for k in klist:\n",
    "            for bin_thr in bin_thrlist:\n",
    "                key = (k, bin_thr)\n",
    "                for n_fold, (i, j) in enumerate(skf):\n",
    "                    train_idx = np.in1d(n_observs, n_observs[i])\n",
    "                    test_idx = np.in1d(n_observs, n_observs[j])\n",
    "                    (_, auc,\n",
    "                     _, logloss) =  model(X_train[train_idx],\n",
    "                                          y_train[train_idx],\n",
    "                                          X_train[test_idx],\n",
    "                                          y_train[test_idx],\n",
    "                                          k,\n",
    "                                          bin_thr,\n",
    "                                          args[0] if args else 0)\n",
    "\n",
    "                    auc_folds[key].append(auc)\n",
    "                    logloss_folds[key].append(logloss)\n",
    "           \n",
    "    mean_auc = {}\n",
    "    mean_logloss = {}\n",
    "    \n",
    "    for key in auc_folds.keys():\n",
    "        mean_auc[key] = np.mean(auc_folds[key])\n",
    "        mean_logloss[key] = np.mean(logloss_folds[key])\n",
    "        \n",
    "    return (mean_auc, \n",
    "            mean_logloss)"
   ]
  },
  {
   "cell_type": "code",
   "execution_count": null,
   "metadata": {
    "collapsed": false
   },
   "outputs": [],
   "source": [
    "scores = {}\n",
    "n_shuffles = 10\n",
    "n_folds = 10\n",
    "klist = [65]\n",
    "bin_thrlist = [2]\n",
    "type_weights = 1\n",
    "\n",
    "best_key, mean_auc, mean_logloss = \\\n",
    "                sindrom_algorithm_score(n_shuffles, n_folds, klist, bin_thrlist, type_weights)\n",
    "scores['SA_type_weights:{}'.format(type_weights)]  = \\\n",
    "        OrderedDict([             \n",
    "           ('AUC(TrainCV)', mean_auc[best_key]), \n",
    "           ('LogLoss(TrainCV)', mean_logloss[best_key])])\n",
    "    \n",
    "type_weights = 2\n",
    "\n",
    "best_key, mean_auc, mean_logloss = \\\n",
    "                sindrom_algorithm_score(n_shuffles, n_folds, klist, bin_thrlist, type_weights)\n",
    "scores['SA_type_weights:{}'.format(type_weights)]  = \\\n",
    "        OrderedDict([             \n",
    "           ('AUC(TrainCV)', mean_auc[best_key]), \n",
    "           ('LogLoss(TrainCV)', mean_logloss[best_key])])\n",
    "    \n",
    "klist = [216]\n",
    "bin_thrlist = [2]\n",
    "\n",
    "(mean_auc, mean_logloss) = \\\n",
    "              cross_val_score(NaiveBayes, n_shuffles, n_folds, klist, bin_thrlist)\n",
    "    \n",
    "scores['NB']  = OrderedDict([             \n",
    "    ('AUC(TrainCV)', list(mean_auc.values())[0]),\n",
    "    ('LogLoss(TrainCV)', list(mean_logloss.values())[0])])"
   ]
  },
  {
   "cell_type": "code",
   "execution_count": null,
   "metadata": {
    "collapsed": false
   },
   "outputs": [],
   "source": [
    "X_train_val = X_train.values\n",
    "y_train_val = y_train.values\n",
    "\n",
    "X_valid_val = X_valid.values\n",
    "y_valid_val = y_valid.values\n",
    "\n",
    "type_weights = 1\n",
    "best_key = (134, 2)\n",
    "(auc_train, \n",
    " auc_valid, \n",
    " logloss_train, \n",
    " logloss_valid) = sindrom_algorithm(X_train_val,\n",
    "                                    y_train_val,\n",
    "                                    X_valid_val,\n",
    "                                    y_valid_val,\n",
    "                                    best_key[0],\n",
    "                                    best_key[1], \n",
    "                                    type_weights)\n",
    "\n",
    "\n",
    "scores['SA_type_weights:1']['AUC(Valid)'] =  auc_valid\n",
    "scores['SA_type_weights:1']['LogLoss(Valid)'] =  logloss_valid\n",
    "\n",
    "type_weights = 2\n",
    "best_key = (135, 2)\n",
    "(auc_train, \n",
    " auc_valid, \n",
    " logloss_train, \n",
    " logloss_valid) = sindrom_algorithm(X_train_val,\n",
    "                                    y_train_val,\n",
    "                                    X_valid_val,\n",
    "                                    y_valid_val,\n",
    "                                    best_key[0],\n",
    "                                    best_key[1], \n",
    "                                    type_weights)\n",
    "\n",
    "\n",
    "scores['SA_type_weights:2']['AUC(Valid)'] =  auc_valid\n",
    "scores['SA_type_weights:2']['LogLoss(Valid)'] =  logloss_valid\n",
    "\n",
    "\n",
    "(auc_train, \n",
    " auc_valid, \n",
    " logloss_train, \n",
    " logloss_valid) = NaiveBayes(X_train_val,\n",
    "                             y_train_val,\n",
    "                             X_valid_val,\n",
    "                             y_valid_val,\n",
    "                             216,\n",
    "                             2)\n",
    "\n",
    "scores['NB']['AUC(Valid)'] =  auc_valid\n",
    "scores['NB']['LogLoss(Valid)'] =  logloss_valid"
   ]
  },
  {
   "cell_type": "code",
   "execution_count": 13,
   "metadata": {
    "collapsed": false
   },
   "outputs": [],
   "source": [
    "data_dir = 'data_ekg'\n",
    "shutil.rmtree(data_dir)"
   ]
  },
  {
   "cell_type": "code",
   "execution_count": 30,
   "metadata": {
    "collapsed": false
   },
   "outputs": [],
   "source": [
    "data_dir = 'data_ekg'\n",
    "n_objs = 548\n",
    "n_topics = 8\n",
    "n_topics_health = 1\n",
    "n_collection_passes = 25\n",
    "n_document_passes = 1\n",
    "n_shuffles = 1\n",
    "n_folds = 10\n",
    "clf = EcgClassification(data_dir, \n",
    "                        n_objs,\n",
    "                        n_topics,\n",
    "                        n_topics_health,\n",
    "                        n_collection_passes, \n",
    "                        n_document_passes,\n",
    "                        n_shuffles,\n",
    "                        n_folds)\n",
    "\n",
    "#tau = np.hstack((np.repeat([1e2, 1e2 * 5], [5, 5]), np.repeat([1e3, 1e3 * 5], [5, 5]), np.repeat([1e4], [5])))\n",
    "tau = np.repeat([1e2, 1e3, 1e4], [10, 8, 7])\n",
    "tau_phi_gram3 = np.hstack((np.hstack(([0] * 5, np.linspace(-1e2, -1e2, 15))), [-1e2] * 5)) \n",
    "w_gram3   = [1] * n_collection_passes\n",
    "\n",
    "(auc_folds_iter, \n",
    " logloss_folds_iter,  \n",
    " sparsity_phi_c_folds_iter, \n",
    " sparsity_phi_gram3_folds_iter,\n",
    " sparsity_theta_folds_iter,\n",
    " ptc) =  clf.cross_val_score(tau, w_gram3, tau_phi_gram3)"
   ]
  },
  {
   "cell_type": "code",
   "execution_count": 24,
   "metadata": {
    "collapsed": false
   },
   "outputs": [
    {
     "name": "stderr",
     "output_type": "stream",
     "text": [
      "/root/miniconda/envs/jupyterhub_py3/lib/python3.4/site-packages/matplotlib/collections.py:590: FutureWarning: elementwise comparison failed; returning scalar instead, but in the future will perform elementwise comparison\n",
      "  if self._edgecolors == str('face'):\n"
     ]
    },
    {
     "data": {
      "image/png": "[encoded data removed]",
      "text/plain": [
       "<matplotlib.figure.Figure at 0x7fe729ab3cf8>"
      ]
     },
     "metadata": {},
     "output_type": "display_data"
    }
   ],
   "source": [
    "figure(figsize=(10, 8))\n",
    "\n",
    "left_edge = []\n",
    "right_edge = []\n",
    "mean_auc = []\n",
    "iters = []\n",
    "for key, value in auc_folds_iter.items():\n",
    "    left, right = sms.DescrStatsW(value).tconfint_mean()\n",
    "    left_edge.append(left)\n",
    "    right_edge.append(right)\n",
    "    iters.append(key + 1)\n",
    "    mean_auc.append(np.mean(value))\n",
    "\n",
    "\n",
    "fill_between(iters, left_edge, right_edge, color='violet')\n",
    "plot(iters, mean_auc, color='magenta', lw=5)\n",
    "\n",
    "xlabel('iteration', fontsize=18)\n",
    "xlim([1, n_collection_passes])\n",
    "ylim([0.85, 1.0])\n",
    "xticks(list(xticks()[0][1:]) + [1])\n",
    "tick_params(axis='both', which='major', labelsize=18)\n",
    "\n",
    "ylabel('AUC', fontsize=18)\n",
    "legend(['TrainCV'], fontsize=18, loc='best')\n",
    "#savefig('auc.png')\n",
    "show()"
   ]
  },
  {
   "cell_type": "code",
   "execution_count": 16,
   "metadata": {
    "collapsed": false
   },
   "outputs": [
    {
     "name": "stderr",
     "output_type": "stream",
     "text": [
      "/root/miniconda/envs/jupyterhub_py3/lib/python3.4/site-packages/matplotlib/collections.py:590: FutureWarning: elementwise comparison failed; returning scalar instead, but in the future will perform elementwise comparison\n",
      "  if self._edgecolors == str('face'):\n"
     ]
    },
    {
     "data": {
      "image/png": "[encoded data removed]",
      "text/plain": [
       "<matplotlib.figure.Figure at 0x7fe729a5ee80>"
      ]
     },
     "metadata": {},
     "output_type": "display_data"
    }
   ],
   "source": [
    "figure(figsize=(10, 8))\n",
    "\n",
    "left_edge = []\n",
    "right_edge = []\n",
    "mean_logloss = []\n",
    "iters = []\n",
    "for key, value in logloss_folds_iter.items():\n",
    "    left, right = sms.DescrStatsW(value).tconfint_mean()\n",
    "    left_edge.append(left)\n",
    "    right_edge.append(right)\n",
    "    iters.append(key + 1)\n",
    "    mean_logloss.append(np.mean(value))\n",
    "\n",
    "\n",
    "fill_between(iters, left_edge, right_edge, color='violet')\n",
    "plot(iters, mean_logloss, color='magenta', lw=5)\n",
    "\n",
    "xlabel('iteration', fontsize=18)\n",
    "xlim([1, n_collection_passes])\n",
    "xticks(list(xticks()[0][1:]) + [1])\n",
    "\n",
    "ylabel('LogLoss', fontsize=18)\n",
    "legend(['TrainCV'], fontsize=18, loc='best')\n",
    "tick_params(axis='both', which='major', labelsize=18)\n",
    "#savefig('logloss.png')\n",
    "show()"
   ]
  },
  {
   "cell_type": "code",
   "execution_count": 40,
   "metadata": {
    "collapsed": false
   },
   "outputs": [],
   "source": [
    "mean_sparsity_theta = []\n",
    "for key, value in sparsity_theta_folds_iter.items():\n",
    "    mean_sparsity_theta.append(np.mean(value))"
   ]
  },
  {
   "cell_type": "code",
   "execution_count": 50,
   "metadata": {
    "collapsed": false
   },
   "outputs": [
    {
     "name": "stderr",
     "output_type": "stream",
     "text": [
      "/root/miniconda/envs/jupyterhub_py3/lib/python3.4/site-packages/seaborn/matrix.py:143: DeprecationWarning: elementwise == comparison failed; this will raise an error in the future.\n",
      "  if xticklabels == []:\n",
      "/root/miniconda/envs/jupyterhub_py3/lib/python3.4/site-packages/matplotlib/collections.py:590: FutureWarning: elementwise comparison failed; returning scalar instead, but in the future will perform elementwise comparison\n",
      "  if self._edgecolors == str('face'):\n"
     ]
    },
    {
     "name": "stdout",
     "output_type": "stream",
     "text": [
      "Populating the interactive namespace from numpy and matplotlib\n"
     ]
    },
    {
     "data": {
      "image/png": "[encoded data removed]",
      "text/plain": [
       "<matplotlib.figure.Figure at 0x7f02c5ca3ef0>"
      ]
     },
     "metadata": {},
     "output_type": "display_data"
    }
   ],
   "source": [
    "import seaborn as sns\n",
    "%pylab inline\n",
    "figure(figsize=(6, 5))\n",
    "#p_tc = pd.read_csv('p_tc_topics2_tau1_10000.csv', index_col=0)\n",
    "sns.heatmap(pd.DataFrame(ptc).values)\n",
    "ylabel('topics', fontsize=18)\n",
    "text(0.3, 8.1, 'label0', fontsize=18)\n",
    "text(1.3, 8.1, 'label1', fontsize=18)\n",
    "#text(0.0001, 1.5, '$label0$', fontsize=18, rotation='vertical')\n",
    "#title('p(t|c)', fontsize=20)\n",
    "savefig('ptc_t8.eps', format = 'eps')\n",
    "show()"
   ]
  },
  {
   "cell_type": "code",
   "execution_count": 17,
   "metadata": {
    "collapsed": false
   },
   "outputs": [
    {
     "data": {
      "image/png": "[encoded data removed]",
      "text/plain": [
       "<matplotlib.figure.Figure at 0x7fe72aa57f60>"
      ]
     },
     "metadata": {},
     "output_type": "display_data"
    }
   ],
   "source": [
    "figure(figsize=(10, 8))\n",
    "\n",
    "iters = []\n",
    "mean_sparsity_phi_c = []\n",
    "mean_sparsity_phi_gram3 = []\n",
    "\n",
    "for key, value in sparsity_phi_c_folds_iter.items():\n",
    "    iters.append(key + 1)\n",
    "    mean_sparsity_phi_c.append(np.mean(value))\n",
    "    \n",
    "for key, value in sparsity_phi_gram3_folds_iter.items():\n",
    "    mean_sparsity_phi_gram3.append(np.mean(value))\n",
    "\n",
    "plot(iters, mean_sparsity_phi_c, color='magenta', lw=5)\n",
    "plot(iters, mean_sparsity_phi_gram3, color='purple', lw=5)\n",
    "\n",
    "xlabel('iteration', fontsize=18)\n",
    "xlim([1, n_collection_passes])\n",
    "\n",
    "xticks(list(xticks()[0][1:]) + [1])\n",
    "yticks(np.arange(0.0, 1.1, 0.1))\n",
    "tick_params(axis='both', which='major', labelsize=18)\n",
    "ylabel('Sparsity', fontsize=18)\n",
    "legend([r'$p(c|t)$', r'$p(gram3|t)$'], loc = 'best', fontsize = 15)\n",
    "#savefig('sparsity.png')\n",
    "show()"
   ]
  },
  {
   "cell_type": "code",
   "execution_count": 80,
   "metadata": {
    "collapsed": true
   },
   "outputs": [],
   "source": [
    "shutil.rmtree(data_dir)"
   ]
  },
  {
   "cell_type": "code",
   "execution_count": 79,
   "metadata": {
    "collapsed": true
   },
   "outputs": [],
   "source": [
    "data_dir = 'data_ekg'\n",
    "n_objs = 548\n",
    "n_topics = 8\n",
    "n_topics_health = 1\n",
    "n_collection_passes = 25\n",
    "n_document_passes = 1\n",
    "n_shuffles = 10\n",
    "n_folds = 10\n",
    "clf = EcgClassification(data_dir, \n",
    "                        n_objs,\n",
    "                        n_topics,\n",
    "                        n_topics_health,\n",
    "                        n_collection_passes, \n",
    "                        n_document_passes,\n",
    "                        n_shuffles,\n",
    "                        n_folds)\n",
    "\n",
    "#tau = np.hstack((np.repeat([1e2, 1e2 * 5], [5, 5]), np.repeat([1e3, 1e3 * 5], [5, 5]), np.repeat([1e4], [5])))\n",
    "tau = np.repeat([1e2, 1e3, 1e4], [10, 8, 7])\n",
    "tau_phi_gram3 = np.hstack((np.hstack(([0] * 5, np.linspace(-1e2, -1e2, 15))), [-1e2] * 5)) \n",
    "w_gram3   = [1] * n_collection_passes"
   ]
  },
  {
   "cell_type": "code",
   "execution_count": 81,
   "metadata": {
    "collapsed": false
   },
   "outputs": [],
   "source": [
    "os.mkdir(data_dir)\n",
    "shutil.copy('true_labels_train.txt', os.path.join(data_dir, 'true_labels_train.txt'))\n",
    "shutil.copy('true_labels_valid.txt', os.path.join(data_dir, 'true_labels_test.txt'))\n",
    "shutil.copy('vw_train.txt', os.path.join(data_dir, 'train.txt'))\n",
    "shutil.copy('vw_valid.txt', os.path.join(data_dir, 'test.txt'))\n",
    "shutil.copy('vw_train.npy', os.path.join(data_dir, 'train.npy'))\n",
    "shutil.copy('true_labels_train.npy', os.path.join(data_dir, 'true_labels_train.npy'))\n",
    "(_, auc_valid, \n",
    " _, logloss_valid,\n",
    " sparsity_phi_c,\n",
    " sparsity_phi_gram3,\n",
    " sparsity_theta,\n",
    " p_tc) = clf.valid_score(\n",
    "                    data_dir,\n",
    "                    'true_labels_train.txt',\n",
    "                    'true_labels_test.txt',\n",
    "                     tau,\n",
    "                     w_gram3,\n",
    "                     tau_phi_gram3,\n",
    ")"
   ]
  },
  {
   "cell_type": "code",
   "execution_count": null,
   "metadata": {
    "collapsed": false
   },
   "outputs": [],
   "source": [
    "scores['ARTM']  = OrderedDict([             \n",
    "    ('AUC(TrainCV)', mean_auc[-1]),\n",
    "    ('LogLoss(TrainCV)', mean_logloss[-1])])\n",
    "\n",
    "os.mkdir(data_dir)\n",
    "shutil.copy('true_labels_train.txt', os.path.join(data_dir, 'true_labels_train.txt'))\n",
    "shutil.copy('true_labels_valid.txt', os.path.join(data_dir, 'true_labels_test.txt'))\n",
    "shutil.copy('vw_train.txt', os.path.join(data_dir, 'train.txt'))\n",
    "shutil.copy('vw_valid.txt', os.path.join(data_dir, 'test.txt'))\n",
    "(_, auc_valid, \n",
    " _, logloss_valid,\n",
    " sparsity_phi_c,\n",
    " sparsity_phi_gram3,\n",
    " p_tc) = clf.valid_score(\n",
    "                    data_dir,\n",
    "                    'true_labels_train.txt',\n",
    "                    'true_labels_test.txt',\n",
    "                     tau,\n",
    "                     w_gram3,\n",
    "                     tau_phi_gram3)\n",
    "\n",
    "#scores['ARTM']['AUC(Valid)'] =  auc_valid[-1]\n",
    "#scores['ARTM']['LogLoss(Valid)'] =  logloss_valid[-1]\n",
    "shutil.rmtree(data_dir)"
   ]
  },
  {
   "cell_type": "code",
   "execution_count": 26,
   "metadata": {
    "collapsed": true
   },
   "outputs": [],
   "source": [
    "df.to_csv('models.csv', index_col=0)"
   ]
  }
 ],
 "metadata": {
  "kernelspec": {
   "display_name": "Python 3",
   "language": "python",
   "name": "python3"
  },
  "language_info": {
   "codemirror_mode": {
    "name": "ipython",
    "version": 3
   },
   "file_extension": ".py",
   "mimetype": "text/x-python",
   "name": "python",
   "nbconvert_exporter": "python",
   "pygments_lexer": "ipython3",
   "version": "3.4.3"
  }
 },
 "nbformat": 4,
 "nbformat_minor": 0
}
